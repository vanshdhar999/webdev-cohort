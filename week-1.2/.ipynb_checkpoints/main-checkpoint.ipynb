{
 "cells": [
  {
   "cell_type": "markdown",
   "metadata": {},
   "source": [
    "Hello this is a notebook dedicated for Javascript introduction."
   ]
  },
  {
   "cell_type": "markdown",
   "metadata": {},
   "source": [
    "Topics covered\n",
    "1. Function Callbacks\n",
    "2. "
   ]
  },
  {
   "cell_type": "markdown",
   "metadata": {},
   "source": [
    "Function Callbacks \n"
   ]
  },
  {
   "cell_type": "markdown",
   "metadata": {},
   "source": [
    "Calling back a new function inside a new function."
   ]
  },
  {
   "cell_type": "code",
   "execution_count": 10,
   "metadata": {},
   "outputs": [
    {
     "name": "stdout",
     "output_type": "stream",
     "text": [
      "\u001b[33m-1\u001b[39m\n"
     ]
    }
   ],
   "source": [
    "%%script node\n",
    "\n",
    "function airthmetic(num1, num2, fntocall){\n",
    "    const ans = fntocall(num1, num2);\n",
    "    return ans;\n",
    "    \n",
    "}\n",
    "\n",
    "function sum(a, b){\n",
    "    return a+b;\n",
    "}\n",
    "function sub(a, b){\n",
    "    return a-b;\n",
    "}\n",
    "const val = airthmetic(2, 3, sub);\n",
    "console.log(val);"
   ]
  },
  {
   "cell_type": "code",
   "execution_count": null,
   "metadata": {},
   "outputs": [],
   "source": []
  }
 ],
 "metadata": {
  "kernelspec": {
   "display_name": "Python 3 (ipykernel)",
   "language": "python",
   "name": "python3"
  },
  "language_info": {
   "codemirror_mode": {
    "name": "ipython",
    "version": 3
   },
   "file_extension": ".py",
   "mimetype": "text/x-python",
   "name": "python",
   "nbconvert_exporter": "python",
   "pygments_lexer": "ipython3",
   "version": "3.11.5"
  }
 },
 "nbformat": 4,
 "nbformat_minor": 4
}
