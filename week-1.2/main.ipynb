{
 "cells": [
  {
   "cell_type": "markdown",
   "metadata": {},
   "source": [
    "WEEK 1.2\n",
    "JAVASCRIPT BASICS \n",
    "\n",
    "TOPICS COVERED:\n",
    "1. CALLBACKS \n",
    "2. EVENT LOOPS\n",
    "3. PROMISES "
   ]
  },
  {
   "cell_type": "markdown",
   "metadata": {},
   "source": [
    "FUNCTION CALLBACKS TAKE ANOTHER FUNCTIONS AS ARGUMENTS."
   ]
  },
  {
   "cell_type": "code",
   "execution_count": 6,
   "metadata": {},
   "outputs": [
    {
     "name": "stdout",
     "output_type": "stream",
     "text": [
      "hello world\n",
      "hello world\n",
      "hello world\n",
      "hello world\n",
      "hello world\n",
      "Process is interrupted.\n"
     ]
    }
   ],
   "source": [
    "%%script node\n",
    "\n",
    "function greet(){\n",
    "    console.log(\"hello world\")\n",
    "}\n",
    "\n",
    "setInterval(greet, 1*1000);"
   ]
  },
  {
   "cell_type": "markdown",
   "metadata": {},
   "source": [
    "Problem 1 \n",
    "Create a counter that counts down from 30 to 0"
   ]
  },
  {
   "cell_type": "code",
   "execution_count": 21,
   "metadata": {},
   "outputs": [
    {
     "name": "stdout",
     "output_type": "stream",
     "text": [
      "\u001b[33m30\u001b[39m\n",
      "\u001b[33m29\u001b[39m\n",
      "\u001b[33m28\u001b[39m\n",
      "\u001b[33m27\u001b[39m\n",
      "\u001b[33m26\u001b[39m\n",
      "\u001b[33m25\u001b[39m\n",
      "\u001b[33m24\u001b[39m\n",
      "\u001b[33m23\u001b[39m\n",
      "\u001b[33m22\u001b[39m\n",
      "\u001b[33m21\u001b[39m\n",
      "\u001b[33m20\u001b[39m\n",
      "\u001b[33m19\u001b[39m\n",
      "\u001b[33m18\u001b[39m\n",
      "\u001b[33m17\u001b[39m\n",
      "\u001b[33m16\u001b[39m\n",
      "\u001b[33m15\u001b[39m\n",
      "\u001b[33m14\u001b[39m\n",
      "\u001b[33m13\u001b[39m\n",
      "\u001b[33m12\u001b[39m\n",
      "\u001b[33m11\u001b[39m\n",
      "\u001b[33m10\u001b[39m\n",
      "\u001b[33m9\u001b[39m\n",
      "\u001b[33m8\u001b[39m\n",
      "\u001b[33m7\u001b[39m\n",
      "\u001b[33m6\u001b[39m\n",
      "\u001b[33m5\u001b[39m\n",
      "\u001b[33m4\u001b[39m\n",
      "\u001b[33m3\u001b[39m\n",
      "\u001b[33m2\u001b[39m\n",
      "\u001b[33m1\u001b[39m\n",
      "Process is interrupted.\n"
     ]
    }
   ],
   "source": [
    "%%script node\n",
    "\n",
    "function output(){\n",
    "    num -= 1;\n",
    "   if (num > 0){\n",
    "    console.log(num)\n",
    "   }\n",
    "   else{\n",
    "    clearInterval();\n",
    "   }\n",
    "}\n",
    "let num = 31;\n",
    "setInterval(output, 1000);"
   ]
  },
  {
   "cell_type": "code",
   "execution_count": null,
   "metadata": {},
   "outputs": [],
   "source": []
  }
 ],
 "metadata": {
  "kernelspec": {
   "display_name": "Python 3",
   "language": "python",
   "name": "python3"
  },
  "language_info": {
   "codemirror_mode": {
    "name": "ipython",
    "version": 3
   },
   "file_extension": ".py",
   "mimetype": "text/x-python",
   "name": "python",
   "nbconvert_exporter": "python",
   "pygments_lexer": "ipython3",
   "version": "3.11.5"
  },
  "orig_nbformat": 4
 },
 "nbformat": 4,
 "nbformat_minor": 2
}
